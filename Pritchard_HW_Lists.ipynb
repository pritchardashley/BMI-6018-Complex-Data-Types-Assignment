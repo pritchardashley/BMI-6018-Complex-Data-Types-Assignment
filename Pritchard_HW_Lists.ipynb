{
 "cells": [
  {
   "cell_type": "code",
   "execution_count": 5,
   "id": "43c61910",
   "metadata": {},
   "outputs": [
    {
     "name": "stdout",
     "output_type": "stream",
     "text": [
      "Assignment 3\n"
     ]
    }
   ],
   "source": [
    "\"\"\"BMI 6018 Fall 2022 \n",
    "\n",
    "Instructions: For this assignment, please return all answers as variables in your\n",
    ".py file. You will quickly note that you will need to find answers outside the\n",
    "class lectures. This is not an accident! You will need to become professionally\n",
    "comfortable with looking things up via the python docs and google. \n",
    "\n",
    "Ensure that all variables are labelled according to the example. IE the answer\n",
    "to problem 1 part c should be labelled one_c. While all questions are answerable\n",
    "with a single line of code, you are free to use helper variables so long as they\n",
    "are helpfully/informatively named. \n",
    "\n",
    "I should be able to open your .py file and run it without errors. I will **not** be \n",
    "debugging your code for you. If your file does not run, it will **not** be graded. \n",
    "If you are unsure if your file will run, open up a chpc terminal and test it there.\n",
    "\n",
    "For this assignment, please only use base python files types. That is: there \n",
    "should be no import calls in your file save my use of sys at the end.\n",
    "\n",
    "Example Problem\n",
    "\n",
    "0.a Create a list of strings\n",
    "0.b Using a str method, capitalize one of the elements in the list using a slice\n",
    "0.c Coerce one character of the list to display as a hex\n",
    "\n",
    "zero_a = ['first','second','third','fourth','fifth']\n",
    "zero_b = zero_a[1].upper()\n",
    "zero_c = hex(ord(zero_a[1][1]))\n",
    "\n",
    "#Problem 1: Lists, Sets and Coersion\n",
    "\n",
    "1.a Create a list of integers no fewer than 10 items from 0 to 9.\n",
    " .b Add 3 to the 5th indexed element\n",
    " .c Coerce all elements in the list to floats using list comprehension\n",
    " .d Coerce the list to a set\n",
    " .e Using a method, append int 10 to the set\n",
    " .f Using a method, pop an item from the set\n",
    " .g Using a length counting function, count the number of items in the set\n",
    " .h Check if the number of items in the set is the same as the \n",
    "    number of items in the list\n",
    " .i Coerce the set to a list and use the \"+\" operator combine the list to the list from 1.a\n",
    " .j Coerce 1.i to a set\n",
    " .k Count the number of elements in the 1.j\n",
    "\n",
    "\n",
    "\n",
    "Problem 2: Dictionary woes\n",
    "\n",
    "2.a Combine the three sample dictionaries (given below) into a nested dictionary (nested in programming means joined), named \n",
    "    two_a, ensure the key names are the same as the dictionary names.\n",
    " .b Using keys, retrieve the Dango's name from 2.a\n",
    " .c Using keys, update the value of Mochi's year to 2018. This should not be a variable\n",
    "    and should simply update 2.a.\n",
    " .d Manually create a dictionary that has a single level and contains each patient\n",
    "    as the key and the year as the value. Set Mochi's year to 2019.'\n",
    " .e Coerce the keys of 2.d into a list\n",
    " .f Coerce the values of 2.d into a list\n",
    " .g Use the zip function to combine 2.e and 2.f into a dictionary again\n",
    "\n",
    "\n",
    "two_patient_dictionary_kinoko = {\n",
    "  \"name\" : \"Kinoko\",\n",
    "  \"year\" : 2021\n",
    "}\n",
    "two_patient_dictionary_dango = {\n",
    "  \"name\" : \"Dango\",\n",
    "  \"year\" : 2019\n",
    "}\n",
    "two_patient_dictionary_mochi  = {\n",
    "  \"name\" : \"Mochi\",\n",
    "  \"year\" : 2020\n",
    "}\n",
    "\n",
    "\n",
    "\n",
    "Problem 3: Set combinations\n",
    "\n",
    "Given the predefined sets below and using set methods\n",
    "3.a Is set E a subset of set A\n",
    " .b Is set E a strict subset of set A\n",
    " .c Create a set that is the intersection of set A and set B\n",
    " .d Create a set that is the union of sets C, D and E\n",
    " .e add 9 to the set\n",
    " .f Using == compare this set to the list in one_a\n",
    " .g Explain why they are not the same. What would you need to change if you\n",
    "    wanted this to be True?\n",
    " \n",
    "\n",
    "three_setA = {1,2,3,4,5}\n",
    "three_setB = {2,3,4,5,6}\n",
    "three_setC = {3,5,7,9}\n",
    "three_setD = {2,4,6,8}\n",
    "three_setE = {1,2,3,4}\n",
    "\n",
    "\n",
    "\n",
    "Problem 4: Changing variable types\n",
    "\n",
    "For each step you will modify a variable, then append the type of the variable\n",
    "to a list. Do not recreate the list variable, it should be a running list of \n",
    "types.\n",
    "\n",
    "4.a Create a variable of type int with the value of 8\n",
    " .b Create an empty list \n",
    " .c Using type(), add the type of 4.a to this list\n",
    " .d Add 0.39 to 4.c\n",
    " .e append the type of 0.39 to the list\n",
    " .f exponentiate to the -10, ie: 4.d^-10,(hint: there might be an artihmetic operator to do so) round it to no \n",
    "    decimal places, and append to list.\n",
    " .g append the type to the list\n",
    " \n",
    " \n",
    "Problem 5: More variable type changes\n",
    "\n",
    "Continue from where you left off in Problem 4.\n",
    "\n",
    "5.a Manually create a dictionary where the values are items in the list from where we left in \n",
    "    problem 4, and the keys should be their index in the list. Print the dictionary.\n",
    " .b Add 300 and coerce it into a string\n",
    " .c append the type to the list\n",
    " .d slice the string up to the 2nd element\n",
    " .e append the type to the list\n",
    " .f use list comprehension to convert this into a new list of integers\n",
    " .g append the type to the list\n",
    " .h append the type of three_setA to the list\n",
    "\"\"\"\n",
    "\n",
    "#Start your assignment here\n",
    "print(\"Assignment 3\")\n",
    "\n"
   ]
  },
  {
   "cell_type": "code",
   "execution_count": 1,
   "id": "367710fd",
   "metadata": {},
   "outputs": [
    {
     "name": "stdout",
     "output_type": "stream",
     "text": [
      "[0, 1, 2, 3, 4, 5, 6, 7, 8, 9]\n"
     ]
    }
   ],
   "source": [
    "one_a = list(range(10))\n",
    "print(one_a)"
   ]
  },
  {
   "cell_type": "code",
   "execution_count": 2,
   "id": "763163ed-1097-4f7a-bee9-4f88bbea7dec",
   "metadata": {},
   "outputs": [
    {
     "name": "stdout",
     "output_type": "stream",
     "text": [
      "[0, 1, 2, 3, 4, 3, 5, 6, 7, 8, 9]\n"
     ]
    }
   ],
   "source": [
    "one_b = one_a.insert(5,3)\n",
    "print(one_a)"
   ]
  },
  {
   "cell_type": "code",
   "execution_count": 3,
   "id": "85d4da69-3d79-46d8-a07b-6bc71f8153c0",
   "metadata": {},
   "outputs": [
    {
     "name": "stdout",
     "output_type": "stream",
     "text": [
      "[0.0, 1.0, 2.0, 3.0, 4.0, 3.0, 5.0, 6.0, 7.0, 8.0, 9.0]\n"
     ]
    }
   ],
   "source": [
    "one_c = [float(x) for x in one_a]\n",
    "print(one_c)"
   ]
  },
  {
   "cell_type": "code",
   "execution_count": 4,
   "id": "d8ee3751-3553-4b61-81d9-74d5eab1e391",
   "metadata": {},
   "outputs": [
    {
     "name": "stdout",
     "output_type": "stream",
     "text": [
      "{0.0, 1.0, 2.0, 3.0, 4.0, 5.0, 6.0, 7.0, 8.0, 9.0}\n"
     ]
    }
   ],
   "source": [
    "one_d = set(one_c)\n",
    "print(one_d)"
   ]
  },
  {
   "cell_type": "code",
   "execution_count": 5,
   "id": "933d7dc2-b401-465f-b508-5d782626f9b1",
   "metadata": {},
   "outputs": [
    {
     "name": "stdout",
     "output_type": "stream",
     "text": [
      "{0.0, 1.0, 2.0, 3.0, 4.0, 5.0, 6.0, 7.0, 8.0, 9.0, 10}\n"
     ]
    }
   ],
   "source": [
    "one_e = one_d.add(10)\n",
    "print(one_d)"
   ]
  },
  {
   "cell_type": "code",
   "execution_count": 6,
   "id": "7e95d4ae-2ad0-44f7-9243-0ad65032bd0e",
   "metadata": {},
   "outputs": [
    {
     "name": "stdout",
     "output_type": "stream",
     "text": [
      "{1.0, 2.0, 3.0, 4.0, 5.0, 6.0, 7.0, 8.0, 9.0, 10}\n"
     ]
    }
   ],
   "source": [
    "one_f = one_d.pop()\n",
    "print(one_d)"
   ]
  },
  {
   "cell_type": "code",
   "execution_count": 8,
   "id": "d8f35776-823a-4452-802b-382f4431d547",
   "metadata": {},
   "outputs": [
    {
     "name": "stdout",
     "output_type": "stream",
     "text": [
      "10\n"
     ]
    }
   ],
   "source": [
    "one_g = len(one_d)\n",
    "print(len(one_d))"
   ]
  },
  {
   "cell_type": "code",
   "execution_count": 9,
   "id": "de204616-d58a-49a4-b4f8-024ef3f5ea7c",
   "metadata": {},
   "outputs": [
    {
     "name": "stdout",
     "output_type": "stream",
     "text": [
      "11\n"
     ]
    }
   ],
   "source": [
    "#number of items in the list (one_a)\n",
    "number = len(one_a)\n",
    "print(number)"
   ]
  },
  {
   "cell_type": "code",
   "execution_count": 10,
   "id": "dfec30be-b5d4-4d6d-96ef-23c35e23e25e",
   "metadata": {},
   "outputs": [
    {
     "name": "stdout",
     "output_type": "stream",
     "text": [
      "False\n"
     ]
    }
   ],
   "source": [
    "one_h = len(one_d) == len(one_a)\n",
    "print(one_h)"
   ]
  },
  {
   "cell_type": "code",
   "execution_count": 13,
   "id": "703f64ff-6580-4627-9209-46899e814d74",
   "metadata": {},
   "outputs": [
    {
     "name": "stdout",
     "output_type": "stream",
     "text": [
      "[1.0, 2.0, 3.0, 4.0, 5.0, 6.0, 7.0, 8.0, 9.0, 10]\n"
     ]
    }
   ],
   "source": [
    "one_d = list(one_d)\n",
    "print(one_d)"
   ]
  },
  {
   "cell_type": "code",
   "execution_count": 14,
   "id": "b6effb82-a213-4f5c-9bc5-f20a14062b50",
   "metadata": {},
   "outputs": [
    {
     "name": "stdout",
     "output_type": "stream",
     "text": [
      "[1.0, 2.0, 3.0, 4.0, 5.0, 6.0, 7.0, 8.0, 9.0, 10, 0, 1, 2, 3, 4, 3, 5, 6, 7, 8, 9]\n"
     ]
    }
   ],
   "source": [
    "one_i = one_d + one_a\n",
    "print(one_i)"
   ]
  },
  {
   "cell_type": "code",
   "execution_count": 25,
   "id": "c1266df9-b9b4-44ad-a99f-4804e46dd37b",
   "metadata": {},
   "outputs": [
    {
     "name": "stdout",
     "output_type": "stream",
     "text": [
      "{0, 1.0, 2.0, 3.0, 4.0, 5.0, 6.0, 7.0, 8.0, 9.0, 10}\n"
     ]
    }
   ],
   "source": [
    "print(set(one_i))"
   ]
  },
  {
   "cell_type": "code",
   "execution_count": 36,
   "id": "e7110152-c073-46e5-bb01-7a8b9d97ef2e",
   "metadata": {},
   "outputs": [
    {
     "name": "stdout",
     "output_type": "stream",
     "text": [
      "21\n"
     ]
    }
   ],
   "source": [
    "one_j = len(one_i)\n",
    "print(one_j)"
   ]
  },
  {
   "cell_type": "code",
   "execution_count": 41,
   "id": "f8f04779-3bd3-4d92-ab1a-4f5bed67eee1",
   "metadata": {},
   "outputs": [],
   "source": [
    "two_patient_dictionary_kinoko = {\n",
    "  \"name\" : \"Kinoko\",\n",
    "  \"year\" : 2021\n",
    "}\n",
    "two_patient_dictionary_dango = {\n",
    "  \"name\" : \"Dango\",\n",
    "  \"year\" : 2019\n",
    "}\n",
    "two_patient_dictionary_mochi  = {\n",
    "  \"name\" : \"Mochi\",\n",
    "  \"year\" : 2020\n",
    "}"
   ]
  },
  {
   "cell_type": "code",
   "execution_count": 42,
   "id": "26367383-86a7-4231-823f-ed9498c872fe",
   "metadata": {},
   "outputs": [
    {
     "name": "stdout",
     "output_type": "stream",
     "text": [
      "{'two_patient_dictionary_kinoko': {'name': 'Kinoko', 'year': 2021}, 'two_patient_dictionary_dango': {'name': 'Dango', 'year': 2019}, 'two_patient_dictionary_mochi': {'name': 'Mochi', 'year': 2020}}\n"
     ]
    }
   ],
   "source": [
    "two_a = {\n",
    "    \"two_patient_dictionary_kinoko\": two_patient_dictionary_kinoko,\n",
    "    \"two_patient_dictionary_dango\": two_patient_dictionary_dango,\n",
    "    \"two_patient_dictionary_mochi\": two_patient_dictionary_mochi\n",
    "}\n",
    "print(two_a)"
   ]
  },
  {
   "cell_type": "code",
   "execution_count": 45,
   "id": "ca75979c-913c-436d-9865-8e53b812294a",
   "metadata": {},
   "outputs": [
    {
     "name": "stdout",
     "output_type": "stream",
     "text": [
      "Dango\n"
     ]
    }
   ],
   "source": [
    "two_b = two_a[\"two_patient_dictionary_dango\"][\"name\"]\n",
    "print(two_b)"
   ]
  },
  {
   "cell_type": "code",
   "execution_count": 47,
   "id": "494fff17-6ba3-4ff2-ab7e-d3ed20290349",
   "metadata": {},
   "outputs": [
    {
     "name": "stdout",
     "output_type": "stream",
     "text": [
      "{'two_patient_dictionary_kinoko': {'name': 'Kinoko', 'year': 2021}, 'two_patient_dictionary_dango': {'name': 'Dango', 'year': 2019}, 'two_patient_dictionary_mochi': {'name': 'Mochi', 'year': 2018}}\n"
     ]
    }
   ],
   "source": [
    "two_c = two_a[\"two_patient_dictionary_mochi\"][\"year\"] = 2018\n",
    "print(two_a)"
   ]
  },
  {
   "cell_type": "code",
   "execution_count": 48,
   "id": "638d8c86-345b-457a-b721-b36d787b42a1",
   "metadata": {},
   "outputs": [
    {
     "name": "stdout",
     "output_type": "stream",
     "text": [
      "{'Kinoko': 2021, 'Dango': 2019, 'Mochi': 2019}\n"
     ]
    }
   ],
   "source": [
    "two_d = {\n",
    "    \"Kinoko\": 2021,\n",
    "    \"Dango\": 2019,\n",
    "    \"Mochi\": 2019\n",
    "}\n",
    "print(two_d)"
   ]
  },
  {
   "cell_type": "code",
   "execution_count": 49,
   "id": "c9708419-3d9e-4548-9160-4fb97e74d901",
   "metadata": {},
   "outputs": [
    {
     "name": "stdout",
     "output_type": "stream",
     "text": [
      "['Kinoko', 'Dango', 'Mochi']\n"
     ]
    }
   ],
   "source": [
    "two_e = list(two_d.keys())\n",
    "print(two_e)"
   ]
  },
  {
   "cell_type": "code",
   "execution_count": 51,
   "id": "ef938986-d142-4ac0-9a29-810bd2075301",
   "metadata": {},
   "outputs": [
    {
     "name": "stdout",
     "output_type": "stream",
     "text": [
      "[2021, 2019, 2019]\n"
     ]
    }
   ],
   "source": [
    "two_f = list(two_d.values())\n",
    "print(two_f)"
   ]
  },
  {
   "cell_type": "code",
   "execution_count": 52,
   "id": "3b84c002-d92a-420a-b530-0c17508f2765",
   "metadata": {},
   "outputs": [
    {
     "name": "stdout",
     "output_type": "stream",
     "text": [
      "{'Kinoko': 2021, 'Dango': 2019, 'Mochi': 2019}\n"
     ]
    }
   ],
   "source": [
    "two_g = dict(zip(two_e, two_f))\n",
    "print(two_g)"
   ]
  },
  {
   "cell_type": "code",
   "execution_count": 53,
   "id": "7e1ef15d-e198-45dc-8317-3232da8b9e9b",
   "metadata": {},
   "outputs": [],
   "source": [
    "three_setA = {1,2,3,4,5}\n",
    "three_setB = {2,3,4,5,6}\n",
    "three_setC = {3,5,7,9}\n",
    "three_setD = {2,4,6,8}\n",
    "three_setE = {1,2,3,4}"
   ]
  },
  {
   "cell_type": "code",
   "execution_count": 54,
   "id": "bcd52dcf-9b64-4cd7-a0fa-573b5870c8c5",
   "metadata": {},
   "outputs": [
    {
     "name": "stdout",
     "output_type": "stream",
     "text": [
      "True\n"
     ]
    }
   ],
   "source": [
    "three_a = three_setE.issubset(three_setA)\n",
    "print(three_a)"
   ]
  },
  {
   "cell_type": "code",
   "execution_count": 55,
   "id": "825e97aa-0e7b-44f8-b19c-6253a8221618",
   "metadata": {},
   "outputs": [
    {
     "name": "stdout",
     "output_type": "stream",
     "text": [
      "True\n"
     ]
    }
   ],
   "source": [
    "three_b = three_setE.issubset(three_setA) and three_setE != three_setA\n",
    "print(three_b)"
   ]
  },
  {
   "cell_type": "code",
   "execution_count": 56,
   "id": "339d8f54-b068-4f7e-aaed-b7216a056996",
   "metadata": {},
   "outputs": [
    {
     "name": "stdout",
     "output_type": "stream",
     "text": [
      "{2, 3, 4, 5}\n"
     ]
    }
   ],
   "source": [
    "three_c = three_setA.intersection(three_setB)\n",
    "print(three_c)"
   ]
  },
  {
   "cell_type": "code",
   "execution_count": 57,
   "id": "bb190a54-afcc-4ac9-9ec5-3fdbc56649e0",
   "metadata": {},
   "outputs": [
    {
     "name": "stdout",
     "output_type": "stream",
     "text": [
      "{1, 2, 3, 4, 5, 6, 7, 8, 9}\n"
     ]
    }
   ],
   "source": [
    "three_d = three_setC.union(three_setD).union(three_setE)\n",
    "print(three_d)"
   ]
  },
  {
   "cell_type": "code",
   "execution_count": 58,
   "id": "0b23ec1c-f9de-467a-8d1f-8f1f9845af10",
   "metadata": {},
   "outputs": [
    {
     "name": "stdout",
     "output_type": "stream",
     "text": [
      "{1, 2, 3, 4, 5, 6, 7, 8, 9}\n"
     ]
    }
   ],
   "source": [
    "three_e = three_d.add(9)\n",
    "print(three_d)"
   ]
  },
  {
   "cell_type": "code",
   "execution_count": 59,
   "id": "62dafaee-5129-48ec-a5c7-0cc689c80351",
   "metadata": {},
   "outputs": [
    {
     "name": "stdout",
     "output_type": "stream",
     "text": [
      "False\n"
     ]
    }
   ],
   "source": [
    "three_f = three_d == set(one_a)\n",
    "print(three_f)"
   ]
  },
  {
   "cell_type": "code",
   "execution_count": 60,
   "id": "5345b1ee-5c4d-4049-8b52-ef208dc85710",
   "metadata": {},
   "outputs": [
    {
     "name": "stdout",
     "output_type": "stream",
     "text": [
      "[0, 1, 2, 3, 4, 3, 5, 6, 7, 8, 9]\n"
     ]
    }
   ],
   "source": [
    "#recall what one_a is\n",
    "print(one_a)"
   ]
  },
  {
   "cell_type": "code",
   "execution_count": 152,
   "id": "110eeb0d-c20f-4e87-8475-1e957472c368",
   "metadata": {},
   "outputs": [],
   "source": [
    "#three_g they are not the same because one_a contains a zero while three_d does not. one_a has 10 values in the listy but three_d has 9 values in the set."
   ]
  },
  {
   "cell_type": "code",
   "execution_count": 77,
   "id": "c2667aad-d7c3-4f0f-acb6-98411429f1f7",
   "metadata": {},
   "outputs": [
    {
     "name": "stdout",
     "output_type": "stream",
     "text": [
      "8\n",
      "<class 'int'>\n"
     ]
    }
   ],
   "source": [
    "four_a = 8\n",
    "print(four_a)\n",
    "print(type(four_a))"
   ]
  },
  {
   "cell_type": "code",
   "execution_count": 76,
   "id": "569ee7cc-b870-45f7-a8a0-3abf7c0d4c87",
   "metadata": {},
   "outputs": [
    {
     "name": "stdout",
     "output_type": "stream",
     "text": [
      "[]\n"
     ]
    }
   ],
   "source": [
    "four_b = []\n",
    "print(four_b)"
   ]
  },
  {
   "cell_type": "code",
   "execution_count": 78,
   "id": "f11ce7f9-85b7-4c0d-bc7e-abe8134e692a",
   "metadata": {},
   "outputs": [
    {
     "name": "stdout",
     "output_type": "stream",
     "text": [
      "[<class 'int'>]\n"
     ]
    }
   ],
   "source": [
    "four_c = four_b.append(type(four_a))\n",
    "print(four_b)"
   ]
  },
  {
   "cell_type": "code",
   "execution_count": 79,
   "id": "eba205a9-59aa-4cd7-b35d-d72cde4520c4",
   "metadata": {},
   "outputs": [
    {
     "name": "stdout",
     "output_type": "stream",
     "text": [
      "0.39\n"
     ]
    }
   ],
   "source": [
    "number = 0.39\n",
    "print(number)"
   ]
  },
  {
   "cell_type": "code",
   "execution_count": 80,
   "id": "60f9994b-d73c-4452-aaba-2488d5ad3ec1",
   "metadata": {},
   "outputs": [
    {
     "name": "stdout",
     "output_type": "stream",
     "text": [
      "[<class 'int'>, 0.39]\n"
     ]
    }
   ],
   "source": [
    "four_d = four_b.append(number)\n",
    "print(four_b)"
   ]
  },
  {
   "cell_type": "code",
   "execution_count": 81,
   "id": "02a903ae-16e1-4679-b8bf-263badf9385d",
   "metadata": {},
   "outputs": [
    {
     "name": "stdout",
     "output_type": "stream",
     "text": [
      "[<class 'int'>, 0.39, <class 'float'>]\n"
     ]
    }
   ],
   "source": [
    "four_e = four_b.append(type(number))\n",
    "print(four_b)"
   ]
  },
  {
   "cell_type": "code",
   "execution_count": 85,
   "id": "7a1401ef-1a61-4ecc-8d0d-3d8e8be787f2",
   "metadata": {},
   "outputs": [
    {
     "name": "stdout",
     "output_type": "stream",
     "text": [
      "12284\n"
     ]
    }
   ],
   "source": [
    "number = round(number ** -10)\n",
    "print(number)"
   ]
  },
  {
   "cell_type": "code",
   "execution_count": 86,
   "id": "7628eb41-5b50-45af-93f8-c8fc3bd58107",
   "metadata": {},
   "outputs": [
    {
     "name": "stdout",
     "output_type": "stream",
     "text": [
      "[<class 'int'>, 0.39, <class 'float'>, 12284]\n"
     ]
    }
   ],
   "source": [
    "four_f = four_b.append(number)\n",
    "print(four_b)"
   ]
  },
  {
   "cell_type": "code",
   "execution_count": 87,
   "id": "e852c9ce-b089-4c2b-ad6d-310a6639d92e",
   "metadata": {},
   "outputs": [
    {
     "name": "stdout",
     "output_type": "stream",
     "text": [
      "[<class 'int'>, 0.39, <class 'float'>, 12284, <class 'int'>]\n"
     ]
    }
   ],
   "source": [
    "four_g = four_b.append(type(number))\n",
    "print(four_b)"
   ]
  },
  {
   "cell_type": "code",
   "execution_count": 97,
   "id": "1491afe1-0005-4e78-b804-507c1ef883dc",
   "metadata": {},
   "outputs": [
    {
     "name": "stdout",
     "output_type": "stream",
     "text": [
      "{0: <class 'int'>, 1: 0.39, 2: <class 'float'>, 3: 12284, 4: <class 'int'>}\n"
     ]
    }
   ],
   "source": [
    "five_a = {index: value for index, value in enumerate(four_b)}\n",
    "print(five_a)"
   ]
  },
  {
   "cell_type": "code",
   "execution_count": 99,
   "id": "14abccd4-e2f1-4174-a429-d3d061d88882",
   "metadata": {},
   "outputs": [
    {
     "name": "stdout",
     "output_type": "stream",
     "text": [
      "300\n"
     ]
    }
   ],
   "source": [
    "new_value = 300\n",
    "five_b = str(new_value)\n",
    "print(five_b)"
   ]
  },
  {
   "cell_type": "code",
   "execution_count": 100,
   "id": "2faac693-c36a-4a6d-9952-af136706ddf0",
   "metadata": {
    "collapsed": true,
    "jupyter": {
     "outputs_hidden": true,
     "source_hidden": true
    }
   },
   "outputs": [
    {
     "name": "stdout",
     "output_type": "stream",
     "text": [
      "<class 'str'>\n"
     ]
    }
   ],
   "source": [
    "print(type(five_b))"
   ]
  },
  {
   "cell_type": "code",
   "execution_count": null,
   "id": "101055f5-4aac-4027-aeed-754c9f18b052",
   "metadata": {},
   "outputs": [],
   "source": []
  },
  {
   "cell_type": "code",
   "execution_count": null,
   "id": "5c4ad9a3-320e-4f8e-b75d-f268dca8ac35",
   "metadata": {},
   "outputs": [],
   "source": [
    "#five_c below, created a miss-type, appending type of 300 to the list"
   ]
  },
  {
   "cell_type": "code",
   "execution_count": 102,
   "id": "2fac773f-c190-405a-9531-b4c349983c7d",
   "metadata": {},
   "outputs": [
    {
     "name": "stdout",
     "output_type": "stream",
     "text": [
      "[<class 'int'>, 0.39, <class 'float'>, 12284, <class 'int'>, <class 'str'>]\n"
     ]
    }
   ],
   "source": [
    "five_b = four_b.append(type(five_b))\n",
    "print(four_b)"
   ]
  },
  {
   "cell_type": "code",
   "execution_count": null,
   "id": "352311f9-7ef7-4e30-8efd-04aea789d029",
   "metadata": {},
   "outputs": [],
   "source": []
  },
  {
   "cell_type": "code",
   "execution_count": 107,
   "id": "97b3593f-bbb7-42f0-ae69-667bf6c4946c",
   "metadata": {},
   "outputs": [
    {
     "name": "stdout",
     "output_type": "stream",
     "text": [
      "300\n"
     ]
    }
   ],
   "source": [
    "new_value = 300\n",
    "five_b = str(new_value)\n",
    "print(five_b)"
   ]
  },
  {
   "cell_type": "code",
   "execution_count": 110,
   "id": "db3825ac-042e-44ea-bd00-9dc563657e92",
   "metadata": {},
   "outputs": [
    {
     "name": "stdout",
     "output_type": "stream",
     "text": [
      "30\n"
     ]
    }
   ],
   "source": [
    "five_d = five_b[:2]\n",
    "print(five_d)"
   ]
  },
  {
   "cell_type": "code",
   "execution_count": 111,
   "id": "017d120c-ac94-4347-9fc6-972bd14ad2e0",
   "metadata": {},
   "outputs": [
    {
     "name": "stdout",
     "output_type": "stream",
     "text": [
      "<class 'str'>\n"
     ]
    }
   ],
   "source": [
    "print(type(five_d))"
   ]
  },
  {
   "cell_type": "code",
   "execution_count": 123,
   "id": "0d949203-77a7-468a-bf13-0a7f5f9a6e39",
   "metadata": {},
   "outputs": [
    {
     "name": "stdout",
     "output_type": "stream",
     "text": [
      "[<class 'int'>, 0.39, <class 'float'>, 12284, <class 'int'>, <class 'str'>]\n"
     ]
    }
   ],
   "source": [
    "four_b = [type(8), 0.39, type(0.39), 12284, type(12284), type(five_b)]\n",
    "print(four_b)"
   ]
  },
  {
   "cell_type": "code",
   "execution_count": 124,
   "id": "22c34370-f006-4521-bf4a-0ba9bf40fbde",
   "metadata": {},
   "outputs": [
    {
     "name": "stdout",
     "output_type": "stream",
     "text": [
      "[<class 'int'>, 0.39, <class 'float'>, 12284, <class 'int'>, <class 'str'>, <class 'str'>]\n"
     ]
    }
   ],
   "source": [
    "five_e = four_b.append(type(five_d))\n",
    "print(four_b)"
   ]
  },
  {
   "cell_type": "code",
   "execution_count": 126,
   "id": "b0de3de4-2046-4524-b682-65d9565dee5d",
   "metadata": {},
   "outputs": [],
   "source": [
    "five_f = [int(value) for value in four_b if isinstance(value, (int, float))] + \\\n",
    "           [int(value) for value in [five_b, five_d]]"
   ]
  },
  {
   "cell_type": "code",
   "execution_count": 127,
   "id": "2cc56d35-3e2b-478f-bfff-b6df62a5d678",
   "metadata": {},
   "outputs": [
    {
     "name": "stdout",
     "output_type": "stream",
     "text": [
      "[0, 12284, 300, 30]\n"
     ]
    }
   ],
   "source": [
    "print(five_f)"
   ]
  },
  {
   "cell_type": "code",
   "execution_count": 129,
   "id": "71e06312-947e-481e-b968-f5acccad0c15",
   "metadata": {},
   "outputs": [
    {
     "name": "stdout",
     "output_type": "stream",
     "text": [
      "[<class 'int'>, 0.39, <class 'float'>, 12284, <class 'int'>, <class 'str'>, <class 'str'>, [0, 12284, 300, 30]]\n"
     ]
    }
   ],
   "source": [
    "five_g = four_b.append(type(five_f))\n",
    "print(four_b)"
   ]
  },
  {
   "cell_type": "code",
   "execution_count": 132,
   "id": "92d4ee17-16d0-4ac0-837a-c98e8c006be5",
   "metadata": {},
   "outputs": [
    {
     "name": "stdout",
     "output_type": "stream",
     "text": [
      "<class 'list'>\n"
     ]
    }
   ],
   "source": [
    "print(type)"
   ]
  },
  {
   "cell_type": "code",
   "execution_count": 144,
   "id": "fc4d71d2-7198-42d8-a9b9-2eddd5ee90f2",
   "metadata": {},
   "outputs": [
    {
     "name": "stdout",
     "output_type": "stream",
     "text": [
      "[<class 'int'>, 0.39, <class 'float'>, 12284, <class 'int'>, <class 'str'>, <class 'str'>, [0, 12284, 300, 30], <class 'list'>]\n"
     ]
    }
   ],
   "source": [
    "five_g = four_b.append(type)\n",
    "print(four_b)"
   ]
  },
  {
   "cell_type": "code",
   "execution_count": 149,
   "id": "4c5ae08a-21e7-4438-b9dd-b327a86c6f44",
   "metadata": {},
   "outputs": [
    {
     "name": "stdout",
     "output_type": "stream",
     "text": [
      "{1, 2, 3, 4, 5}\n"
     ]
    }
   ],
   "source": [
    "print(three_setA)"
   ]
  },
  {
   "cell_type": "code",
   "execution_count": 150,
   "id": "9d982af3-32b6-4d46-9d9a-3670347f926a",
   "metadata": {},
   "outputs": [
    {
     "name": "stdout",
     "output_type": "stream",
     "text": [
      "<class 'set'>\n"
     ]
    }
   ],
   "source": [
    "print(three_setA.__class__)"
   ]
  },
  {
   "cell_type": "code",
   "execution_count": null,
   "id": "08ae71bf-c66e-4817-80ee-f316568a228d",
   "metadata": {},
   "outputs": [],
   "source": []
  },
  {
   "cell_type": "code",
   "execution_count": 151,
   "id": "e6cf449d-b0fa-4791-b342-8e1aee8690e6",
   "metadata": {},
   "outputs": [
    {
     "name": "stdout",
     "output_type": "stream",
     "text": [
      "[<class 'int'>, 0.39, <class 'float'>, 12284, <class 'int'>, <class 'str'>, <class 'str'>, [0, 12284, 300, 30], <class 'list'>, [1, 2, 3, 4, 5], <class 'set'>]\n"
     ]
    }
   ],
   "source": [
    "five_h = four_b.append(three_setA.__class__)\n",
    "print(four_b)"
   ]
  },
  {
   "cell_type": "code",
   "execution_count": null,
   "id": "0f30cfb3-4c08-4496-bf56-df9920ab89e4",
   "metadata": {},
   "outputs": [],
   "source": [
    "#I had to rewrite a lot of code, Im not entierly sure how to fix mistakes without re-running which created a lt of duplicates. I tried my best to clean it up. I will be coming into office hours to better problem solve.\n",
    "# goals for next homework include better organization of code, ensuring correct typing prior to entering. \n",
    "# I apologize is this is confusing."
   ]
  }
 ],
 "metadata": {
  "kernelspec": {
   "display_name": "Python 3 (ipykernel)",
   "language": "python",
   "name": "python3"
  },
  "language_info": {
   "codemirror_mode": {
    "name": "ipython",
    "version": 3
   },
   "file_extension": ".py",
   "mimetype": "text/x-python",
   "name": "python",
   "nbconvert_exporter": "python",
   "pygments_lexer": "ipython3",
   "version": "3.12.4"
  }
 },
 "nbformat": 4,
 "nbformat_minor": 5
}
